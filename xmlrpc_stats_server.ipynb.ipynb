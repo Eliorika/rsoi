{
 "cells": [
  {
   "cell_type": "markdown",
   "metadata": {
    "toc": true
   },
   "source": [
    "<h1>Table of Contents<span class=\"tocSkip\"></span></h1>\n",
    "<div class=\"toc\"><ul class=\"toc-item\"><li><span><a href=\"#Файл-сервера-xmlrpc_stats_server_p3.ipynb-на-Python-3\" data-toc-modified-id=\"Файл-сервера-xmlrpc_stats_server_p3.ipynb-на-Python-3-1\"><span class=\"toc-item-num\">1&nbsp;&nbsp;</span>Файл сервера xmlrpc_stats_server_p3.ipynb на Python 3</a></span></li></ul></div>"
   ]
  },
  {
   "cell_type": "markdown",
   "metadata": {},
   "source": [
    "#### Файл сервера xmlrpc_stats_server_p3.ipynb на Python 3 "
   ]
  },
  {
   "cell_type": "code",
   "execution_count": null,
   "metadata": {},
   "outputs": [
    {
     "name": "stdout",
     "output_type": "stream",
     "text": [
      "Listening on port 8018...\n"
     ]
    }
   ],
   "source": [
    "from xmlrpc.server import SimpleXMLRPCServer\n",
    "from xmlrpc.server import SimpleXMLRPCRequestHandler\n",
    "import datetime\n",
    "import os\n",
    "import csv\n",
    "import glob\n",
    "\n",
    "# Константа для максимального количества записей в журнале\n",
    "MAX_LOG_SIZE = 3\n",
    "\n",
    "class RequestHandler(SimpleXMLRPCRequestHandler):\n",
    "    rpc_paths = ('/RPC2',)\n",
    "\n",
    "server = SimpleXMLRPCServer((\"localhost\", 8018), \n",
    "                            requestHandler=RequestHandler)\n",
    "\n",
    "# Проверка количества строк в файле\n",
    "def check_log_size():\n",
    "    if os.path.exists('log.csv'):\n",
    "        with open('log.csv', 'r') as f:\n",
    "            lines = f.readlines()\n",
    "            return len(lines)\n",
    "    return 0\n",
    "\n",
    "# Переименование журнала с добавлением даты и времени\n",
    "def rotate_log():\n",
    "    timestamp = datetime.datetime.now().strftime(\"%Y%m%d_%H%M%S\")\n",
    "    os.rename('log.csv', f'log_{timestamp}.csv')\n",
    "\n",
    "# Добавление строки в лог с проверкой размера\n",
    "def add_log(sname):\n",
    "    if check_log_size() >= MAX_LOG_SIZE:\n",
    "        rotate_log()\n",
    "    \n",
    "    # Получаем текущую дату и время\n",
    "    current_time = datetime.datetime.now()\n",
    "\n",
    "    # Форматируем строку даты/времени для записи в CSV\n",
    "    formatted_time = current_time.strftime(\"%Y-%m-%d %H:%M:%S\")\n",
    "    \n",
    "    with open('log.csv', 'a', encoding='utf-8') as f:\n",
    "        f.write(f'{sname},{formatted_time}\\n')\n",
    "    return True\n",
    "\n",
    "server.register_function(add_log, 'add_log')\n",
    "\n",
    "# Функция для чтения и фильтрации логов из одного файла\n",
    "def read_logs_from_file(filename, event_type=None, s_start_time=None, d_end_time=None):\n",
    "    logs = []\n",
    "    start_time = datetime.datetime.strptime(s_start_time, \"%Y-%m-%d %H:%M:%S\")\n",
    "    end_time = datetime.datetime.strptime(d_end_time, \"%Y-%m-%d %H:%M:%S\")\n",
    "    if os.path.exists(filename):\n",
    "        with open(filename, 'r', encoding='utf-8') as f:\n",
    "            reader = csv.reader(f)\n",
    "            for row in reader:\n",
    "                if len(row) != 2:\n",
    "                    continue  # Игнорируем неправильные строки\n",
    "                \n",
    "                # Разбиваем строку: [тип события, время]\n",
    "                log_event, log_time_str = row\n",
    "                log_time = datetime.datetime.strptime(log_time_str, \"%Y-%m-%d %H:%M:%S\")\n",
    "                \n",
    "                # Фильтрация по типу события\n",
    "                if event_type and log_event != event_type:\n",
    "                    continue\n",
    "                \n",
    "                # Фильтрация по времени\n",
    "                if start_time and log_time < start_time:\n",
    "                    continue\n",
    "                if end_time and log_time > end_time:\n",
    "                    continue\n",
    "                \n",
    "                # Добавляем записи, прошедшие фильтрацию\n",
    "                logs.append(row)\n",
    "    return logs\n",
    "\n",
    "# Фильтрация логов по типу операции и времени из всех файлов\n",
    "def get_logs(event_type=None, start_time=None, end_time=None):\n",
    "    logs = []\n",
    "    \n",
    "    # Получаем все файлы формата log.csv и log_YYYMMDD_hhmmss.csv\n",
    "    log_files = glob.glob('log*.csv')\n",
    "    \n",
    "    # Читаем и фильтруем логи из каждого файла\n",
    "    for log_file in log_files:\n",
    "        logs.extend(read_logs_from_file(log_file, event_type, start_time, end_time))\n",
    "    \n",
    "    return logs\n",
    "\n",
    "server.register_function(get_logs, 'get_logs')\n",
    "\n",
    "print(\"Listening on port 8018...\")\n",
    "server.serve_forever()\n",
    "\n"
   ]
  },
  {
   "cell_type": "code",
   "execution_count": null,
   "metadata": {},
   "outputs": [],
   "source": []
  }
 ],
 "metadata": {
  "kernelspec": {
   "display_name": "Python 3",
   "language": "python",
   "name": "python3"
  },
  "language_info": {
   "codemirror_mode": {
    "name": "ipython",
    "version": 3
   },
   "file_extension": ".py",
   "mimetype": "text/x-python",
   "name": "python",
   "nbconvert_exporter": "python",
   "pygments_lexer": "ipython3",
   "version": "3.8.8"
  },
  "toc": {
   "base_numbering": 1,
   "nav_menu": {},
   "number_sections": true,
   "sideBar": true,
   "skip_h1_title": false,
   "title_cell": "Table of Contents",
   "title_sidebar": "Contents",
   "toc_cell": true,
   "toc_position": {},
   "toc_section_display": true,
   "toc_window_display": false
  }
 },
 "nbformat": 4,
 "nbformat_minor": 2
}
