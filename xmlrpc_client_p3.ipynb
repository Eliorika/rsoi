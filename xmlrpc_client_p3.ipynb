{
 "cells": [
  {
   "cell_type": "markdown",
   "metadata": {
    "toc": true
   },
   "source": [
    "<h1>Table of Contents<span class=\"tocSkip\"></span></h1>\n",
    "<div class=\"toc\"><ul class=\"toc-item\"><li><span><a href=\"#Файл-клиента-xmlrpc_client_p3.ipynb-на-Python-3\" data-toc-modified-id=\"Файл-клиента-xmlrpc_client_p3.ipynb-на-Python-3-1\"><span class=\"toc-item-num\">1&nbsp;&nbsp;</span>Файл клиента xmlrpc_client_p3.ipynb на Python 3</a></span></li></ul></div>"
   ]
  },
  {
   "cell_type": "markdown",
   "metadata": {},
   "source": [
    "#### Файл клиента xmlrpc_client_p3.ipynb на Python 3"
   ]
  },
  {
   "cell_type": "code",
   "execution_count": 13,
   "metadata": {},
   "outputs": [
    {
     "name": "stdout",
     "output_type": "stream",
     "text": [
      "['binary_threshold', 'black_list_check', 'black_list_check_fio_birth', 'color_inversion', 'now', 'ping', 'pow', 'send_back_binary', 'sum', 'system.listMethods', 'system.methodHelp', 'system.methodSignature', 'type', 'vertical_flip']\n",
      "Ping: True\n",
      "Server datetime: 20241010T19:19:27\n",
      "View, type, value: ['2', \"<class 'int'>\", 2]\n",
      "View, type, value: ['2.0', \"<class 'float'>\", 2.0]\n",
      "View, type, value: ['My string', \"<class 'str'>\", 'My string']\n",
      "View, type, value: ['My string', \"<class 'str'>\", 'My string']\n",
      "View, type, value: ['[1, 2, 3]', \"<class 'list'>\", [1, 2, 3]]\n",
      "View, type, value: [\"['one', 'two', 'three']\", \"<class 'list'>\", ['one', 'two', 'three']]\n",
      "View, type, value: [\"[1, 2, '3']\", \"<class 'list'>\", [1, 2, '3']]\n",
      "Sum 2 + 3 : 5\n",
      "Pow 2^3:  8\n"
     ]
    }
   ],
   "source": [
    "# xmlrpc_client.ipynb\n",
    "\n",
    "import xmlrpc.client\n",
    "\n",
    "server = xmlrpc.client.ServerProxy(\"http://localhost:8008\")\n",
    "\n",
    "print(server.system.listMethods())\n",
    "\n",
    "print ('Ping:', server.ping())\n",
    "print ('Server datetime:', server.now())\n",
    "print ('View, type, value:', server.type(2))\n",
    "print ('View, type, value:', server.type(2.))\n",
    "print ('View, type, value:', server.type('My string'))\n",
    "print ('View, type, value:', server.type(\"My string\"))\n",
    "print ('View, type, value:', server.type([1,2,3]))\n",
    "print ('View, type, value:', server.type([\"one\", \"two\", \"three\"]))\n",
    "print ('View, type, value:', server.type((1,2,\"3\")))\n",
    "print ('Sum 2 + 3 :', server.sum(2, 3))\n",
    "print ('Pow 2^3: ', server.pow(2, 3))\n"
   ]
  },
  {
   "cell_type": "code",
   "execution_count": 15,
   "metadata": {},
   "outputs": [
    {
     "data": {
      "text/plain": [
       "[['ping', '2024-10-10 17:45:30'],\n",
       " ['ping', '2024-10-10 18:31:44'],\n",
       " ['ping', '2024-10-10 18:45:10'],\n",
       " ['ping', '2024-10-10 19:00:43'],\n",
       " ['ping', '2024-10-10 19:17:48']]"
      ]
     },
     "execution_count": 15,
     "metadata": {},
     "output_type": "execute_result"
    }
   ],
   "source": [
    "server_stat = xmlrpc.client.ServerProxy(\"http://localhost:8018\")\n",
    "start_time ='2024-10-10 17:00:00'\n",
    "end_time = '2024-10-10 20:00:00'\n",
    "\n",
    "logs = server_stat.get_logs('ping', start_time, end_time)\n",
    "\n",
    "logs"
   ]
  },
  {
   "cell_type": "code",
   "execution_count": null,
   "metadata": {},
   "outputs": [],
   "source": []
  }
 ],
 "metadata": {
  "kernelspec": {
   "display_name": "Python 3",
   "language": "python",
   "name": "python3"
  },
  "toc": {
   "base_numbering": 1,
   "nav_menu": {},
   "number_sections": true,
   "sideBar": true,
   "skip_h1_title": false,
   "title_cell": "Table of Contents",
   "title_sidebar": "Contents",
   "toc_cell": true,
   "toc_position": {},
   "toc_section_display": true,
   "toc_window_display": false
  }
 },
 "nbformat": 4,
 "nbformat_minor": 2
}
