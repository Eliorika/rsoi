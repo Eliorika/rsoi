{
 "cells": [
  {
   "cell_type": "markdown",
   "id": "54c7126e",
   "metadata": {
    "toc": true
   },
   "source": [
    "<h1>Table of Contents<span class=\"tocSkip\"></span></h1>\n",
    "<div class=\"toc\"><ul class=\"toc-item\"></ul></div>"
   ]
  },
  {
   "cell_type": "code",
   "execution_count": null,
   "id": "5773b37e",
   "metadata": {},
   "outputs": [
    {
     "name": "stdout",
     "output_type": "stream",
     "text": [
      "Proxy server listening on port 8009...\n",
      "Stats server unavailable. Logging skipped.\n"
     ]
    },
    {
     "name": "stderr",
     "output_type": "stream",
     "text": [
      "127.0.0.1 - - [26/Oct/2024 22:08:38] \"POST /RPC2 HTTP/1.1\" 200 -\n"
     ]
    },
    {
     "name": "stdout",
     "output_type": "stream",
     "text": [
      "Stats server unavailable. Logging skipped.\n"
     ]
    },
    {
     "name": "stderr",
     "output_type": "stream",
     "text": [
      "127.0.0.1 - - [26/Oct/2024 22:09:04] \"POST /RPC2 HTTP/1.1\" 200 -\n"
     ]
    },
    {
     "name": "stdout",
     "output_type": "stream",
     "text": [
      "Stats server unavailable. Logging skipped.\n"
     ]
    },
    {
     "name": "stderr",
     "output_type": "stream",
     "text": [
      "127.0.0.1 - - [26/Oct/2024 22:09:30] \"POST /RPC2 HTTP/1.1\" 200 -\n"
     ]
    },
    {
     "name": "stdout",
     "output_type": "stream",
     "text": [
      "Stats server unavailable. Logging skipped.\n"
     ]
    },
    {
     "name": "stderr",
     "output_type": "stream",
     "text": [
      "127.0.0.1 - - [26/Oct/2024 22:09:38] \"POST /RPC2 HTTP/1.1\" 200 -\n"
     ]
    },
    {
     "name": "stdout",
     "output_type": "stream",
     "text": [
      "Stats server unavailable. Logging skipped.\n"
     ]
    },
    {
     "name": "stderr",
     "output_type": "stream",
     "text": [
      "127.0.0.1 - - [26/Oct/2024 22:09:47] \"POST /RPC2 HTTP/1.1\" 200 -\n"
     ]
    }
   ],
   "source": [
    "from xmlrpc.server import SimpleXMLRPCServer, SimpleXMLRPCRequestHandler\n",
    "import xmlrpc.client\n",
    "import datetime\n",
    "import pickle\n",
    "import numpy as np\n",
    "import socket\n",
    "\n",
    "TIMEOUT = 20\n",
    "socket.setdefaulttimeout(TIMEOUT)\n",
    "\n",
    "class RequestHandler(SimpleXMLRPCRequestHandler):\n",
    "    rpc_paths = ('/RPC2',)\n",
    "\n",
    "proxy_server = SimpleXMLRPCServer((\"localhost\", 8009), requestHandler=RequestHandler)\n",
    "proxy_server.register_introspection_functions()\n",
    "\n",
    "server_endpoint = xmlrpc.client.ServerProxy(\"http://localhost:8008\")\n",
    "stats_server = xmlrpc.client.ServerProxy(\"http://localhost:8018\")\n",
    "\n",
    "def log_event(event, duration):\n",
    "    \"\"\"Логирование события через сервер статистики\"\"\"\n",
    "    try:\n",
    "        stats_server.add_log(event, datetime.datetime.now().strftime(\"%Y-%m-%d %H:%M:%S\"), duration)\n",
    "    except Exception:\n",
    "        print(\"Stats server unavailable. Logging skipped.\")\n",
    "\n",
    "def proxy_function(func_name, *args):\n",
    "    \"\"\"Выполнение функции на сервере с логированием времени выполнения\"\"\"\n",
    "    start_time = datetime.datetime.now()\n",
    "    try:\n",
    "        # Подготовка аргументов для передачи\n",
    "        new_args = [xmlrpc.client.Binary(pickle.dumps(arg)) if isinstance(arg, np.ndarray) else arg for arg in args]\n",
    "        \n",
    "        # Вызов функции на сервере\n",
    "        result = getattr(server_endpoint, func_name)(*new_args)\n",
    "        \n",
    "#         # Десериализация результата\n",
    "#         if isinstance(result, xmlrpc.client.Binary):\n",
    "#             result = pickle.loads(result.data)\n",
    "#             result \n",
    "        \n",
    "        duration = (datetime.datetime.now() - start_time).total_seconds()\n",
    "        log_event(func_name, duration)\n",
    "        return result\n",
    "    except Exception as e:\n",
    "        print(f\"Error in proxy function {func_name}: {e}\")\n",
    "        return f\"Error: {e}\"\n",
    "\n",
    "# Регистрация функций\n",
    "proxy_server.register_function(lambda *args: proxy_function('ping', *args), 'ping')\n",
    "proxy_server.register_function(lambda *args: proxy_function('now', *args), 'now')\n",
    "proxy_server.register_function(lambda *args: proxy_function('type', *args), 'type')\n",
    "proxy_server.register_function(lambda *args: proxy_function('sum', *args), 'sum')\n",
    "proxy_server.register_function(lambda *args: proxy_function('pow', *args), 'pow')\n",
    "proxy_server.register_function(lambda *args: proxy_function('black_list_check', *args), 'black_list_check')\n",
    "proxy_server.register_function(lambda *args: proxy_function('black_list_check_fio_birth', *args), 'black_list_check_fio_birth')\n",
    "proxy_server.register_function(lambda *args: proxy_function('send_back_binary', *args), 'send_back_binary')\n",
    "proxy_server.register_function(lambda *args: proxy_function('color_inversion', *args), 'color_inversion')\n",
    "proxy_server.register_function(lambda *args: proxy_function('binary_threshold', *args), 'binary_threshold')\n",
    "proxy_server.register_function(lambda *args: proxy_function('vertical_flip', *args), 'vertical_flip')\n",
    "\n",
    "print(\"Proxy server listening on port 8009...\")\n",
    "proxy_server.serve_forever()\n"
   ]
  },
  {
   "cell_type": "code",
   "execution_count": null,
   "id": "aaa92f34",
   "metadata": {},
   "outputs": [],
   "source": []
  }
 ],
 "metadata": {
  "kernelspec": {
   "display_name": "Python 3",
   "language": "python",
   "name": "python3"
  },
  "language_info": {
   "codemirror_mode": {
    "name": "ipython",
    "version": 3
   },
   "file_extension": ".py",
   "mimetype": "text/x-python",
   "name": "python",
   "nbconvert_exporter": "python",
   "pygments_lexer": "ipython3",
   "version": "3.8.8"
  },
  "toc": {
   "base_numbering": 1,
   "nav_menu": {},
   "number_sections": true,
   "sideBar": true,
   "skip_h1_title": false,
   "title_cell": "Table of Contents",
   "title_sidebar": "Contents",
   "toc_cell": true,
   "toc_position": {},
   "toc_section_display": true,
   "toc_window_display": false
  }
 },
 "nbformat": 4,
 "nbformat_minor": 5
}
