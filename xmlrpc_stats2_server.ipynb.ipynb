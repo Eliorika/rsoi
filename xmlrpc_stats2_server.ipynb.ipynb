{
 "cells": [
  {
   "cell_type": "markdown",
   "metadata": {
    "toc": true
   },
   "source": [
    "<h1>Table of Contents<span class=\"tocSkip\"></span></h1>\n",
    "<div class=\"toc\"><ul class=\"toc-item\"><li><span><a href=\"#Файл-сервера-xmlrpc_stats_server_p3.ipynb-на-Python-3\" data-toc-modified-id=\"Файл-сервера-xmlrpc_stats_server_p3.ipynb-на-Python-3-1\"><span class=\"toc-item-num\">1&nbsp;&nbsp;</span>Файл сервера xmlrpc_stats_server_p3.ipynb на Python 3</a></span></li></ul></div>"
   ]
  },
  {
   "cell_type": "markdown",
   "metadata": {},
   "source": [
    "#### Файл сервера xmlrpc_stats_server_p3.ipynb на Python 3 "
   ]
  },
  {
   "cell_type": "code",
   "execution_count": 1,
   "metadata": {},
   "outputs": [
    {
     "name": "stdout",
     "output_type": "stream",
     "text": [
      "Statistics server listening on port 8018...\n"
     ]
    },
    {
     "name": "stderr",
     "output_type": "stream",
     "text": [
      "127.0.0.1 - - [26/Oct/2024 22:00:23] \"POST /RPC2 HTTP/1.1\" 200 -\n",
      "127.0.0.1 - - [26/Oct/2024 22:01:12] \"POST /RPC2 HTTP/1.1\" 200 -\n",
      "127.0.0.1 - - [26/Oct/2024 22:01:18] \"POST /RPC2 HTTP/1.1\" 200 -\n",
      "127.0.0.1 - - [26/Oct/2024 22:01:32] \"POST /RPC2 HTTP/1.1\" 200 -\n",
      "127.0.0.1 - - [26/Oct/2024 22:01:38] \"POST /RPC2 HTTP/1.1\" 200 -\n",
      "127.0.0.1 - - [26/Oct/2024 22:03:18] \"POST /RPC2 HTTP/1.1\" 200 -\n",
      "127.0.0.1 - - [26/Oct/2024 22:03:25] \"POST /RPC2 HTTP/1.1\" 200 -\n",
      "127.0.0.1 - - [26/Oct/2024 22:03:31] \"POST /RPC2 HTTP/1.1\" 200 -\n",
      "127.0.0.1 - - [26/Oct/2024 22:03:37] \"POST /RPC2 HTTP/1.1\" 200 -\n",
      "127.0.0.1 - - [26/Oct/2024 22:03:43] \"POST /RPC2 HTTP/1.1\" 200 -\n",
      "127.0.0.1 - - [26/Oct/2024 22:03:49] \"POST /RPC2 HTTP/1.1\" 200 -\n",
      "127.0.0.1 - - [26/Oct/2024 22:03:55] \"POST /RPC2 HTTP/1.1\" 200 -\n",
      "127.0.0.1 - - [26/Oct/2024 22:04:01] \"POST /RPC2 HTTP/1.1\" 200 -\n",
      "127.0.0.1 - - [26/Oct/2024 22:04:08] \"POST /RPC2 HTTP/1.1\" 200 -\n",
      "127.0.0.1 - - [26/Oct/2024 22:04:14] \"POST /RPC2 HTTP/1.1\" 200 -\n",
      "127.0.0.1 - - [26/Oct/2024 22:04:20] \"POST /RPC2 HTTP/1.1\" 200 -\n",
      "127.0.0.1 - - [26/Oct/2024 22:04:29] \"POST /RPC2 HTTP/1.1\" 200 -\n",
      "127.0.0.1 - - [26/Oct/2024 22:05:34] \"POST /RPC2 HTTP/1.1\" 200 -\n",
      "127.0.0.1 - - [26/Oct/2024 22:05:45] \"POST /RPC2 HTTP/1.1\" 200 -\n",
      "127.0.0.1 - - [26/Oct/2024 22:05:51] \"POST /RPC2 HTTP/1.1\" 200 -\n",
      "127.0.0.1 - - [26/Oct/2024 22:05:57] \"POST /RPC2 HTTP/1.1\" 200 -\n",
      "127.0.0.1 - - [26/Oct/2024 22:06:08] \"POST /RPC2 HTTP/1.1\" 200 -\n",
      "127.0.0.1 - - [26/Oct/2024 22:06:16] \"POST /RPC2 HTTP/1.1\" 200 -\n"
     ]
    },
    {
     "ename": "KeyboardInterrupt",
     "evalue": "",
     "output_type": "error",
     "traceback": [
      "\u001b[1;31m---------------------------------------------------------------------------\u001b[0m",
      "\u001b[1;31mKeyboardInterrupt\u001b[0m                         Traceback (most recent call last)",
      "\u001b[1;32m<ipython-input-1-f6ef79a8db4c>\u001b[0m in \u001b[0;36m<module>\u001b[1;34m\u001b[0m\n\u001b[0;32m     44\u001b[0m \u001b[1;33m\u001b[0m\u001b[0m\n\u001b[0;32m     45\u001b[0m \u001b[0mprint\u001b[0m\u001b[1;33m(\u001b[0m\u001b[1;34m\"Statistics server listening on port 8018...\"\u001b[0m\u001b[1;33m)\u001b[0m\u001b[1;33m\u001b[0m\u001b[1;33m\u001b[0m\u001b[0m\n\u001b[1;32m---> 46\u001b[1;33m \u001b[0mstats_server\u001b[0m\u001b[1;33m.\u001b[0m\u001b[0mserve_forever\u001b[0m\u001b[1;33m(\u001b[0m\u001b[1;33m)\u001b[0m\u001b[1;33m\u001b[0m\u001b[1;33m\u001b[0m\u001b[0m\n\u001b[0m",
      "\u001b[1;32mC:\\ProgramData\\Anaconda3\\lib\\socketserver.py\u001b[0m in \u001b[0;36mserve_forever\u001b[1;34m(self, poll_interval)\u001b[0m\n\u001b[0;32m    230\u001b[0m \u001b[1;33m\u001b[0m\u001b[0m\n\u001b[0;32m    231\u001b[0m                 \u001b[1;32mwhile\u001b[0m \u001b[1;32mnot\u001b[0m \u001b[0mself\u001b[0m\u001b[1;33m.\u001b[0m\u001b[0m__shutdown_request\u001b[0m\u001b[1;33m:\u001b[0m\u001b[1;33m\u001b[0m\u001b[1;33m\u001b[0m\u001b[0m\n\u001b[1;32m--> 232\u001b[1;33m                     \u001b[0mready\u001b[0m \u001b[1;33m=\u001b[0m \u001b[0mselector\u001b[0m\u001b[1;33m.\u001b[0m\u001b[0mselect\u001b[0m\u001b[1;33m(\u001b[0m\u001b[0mpoll_interval\u001b[0m\u001b[1;33m)\u001b[0m\u001b[1;33m\u001b[0m\u001b[1;33m\u001b[0m\u001b[0m\n\u001b[0m\u001b[0;32m    233\u001b[0m                     \u001b[1;31m# bpo-35017: shutdown() called during select(), exit immediately.\u001b[0m\u001b[1;33m\u001b[0m\u001b[1;33m\u001b[0m\u001b[1;33m\u001b[0m\u001b[0m\n\u001b[0;32m    234\u001b[0m                     \u001b[1;32mif\u001b[0m \u001b[0mself\u001b[0m\u001b[1;33m.\u001b[0m\u001b[0m__shutdown_request\u001b[0m\u001b[1;33m:\u001b[0m\u001b[1;33m\u001b[0m\u001b[1;33m\u001b[0m\u001b[0m\n",
      "\u001b[1;32mC:\\ProgramData\\Anaconda3\\lib\\selectors.py\u001b[0m in \u001b[0;36mselect\u001b[1;34m(self, timeout)\u001b[0m\n\u001b[0;32m    321\u001b[0m         \u001b[0mready\u001b[0m \u001b[1;33m=\u001b[0m \u001b[1;33m[\u001b[0m\u001b[1;33m]\u001b[0m\u001b[1;33m\u001b[0m\u001b[1;33m\u001b[0m\u001b[0m\n\u001b[0;32m    322\u001b[0m         \u001b[1;32mtry\u001b[0m\u001b[1;33m:\u001b[0m\u001b[1;33m\u001b[0m\u001b[1;33m\u001b[0m\u001b[0m\n\u001b[1;32m--> 323\u001b[1;33m             \u001b[0mr\u001b[0m\u001b[1;33m,\u001b[0m \u001b[0mw\u001b[0m\u001b[1;33m,\u001b[0m \u001b[0m_\u001b[0m \u001b[1;33m=\u001b[0m \u001b[0mself\u001b[0m\u001b[1;33m.\u001b[0m\u001b[0m_select\u001b[0m\u001b[1;33m(\u001b[0m\u001b[0mself\u001b[0m\u001b[1;33m.\u001b[0m\u001b[0m_readers\u001b[0m\u001b[1;33m,\u001b[0m \u001b[0mself\u001b[0m\u001b[1;33m.\u001b[0m\u001b[0m_writers\u001b[0m\u001b[1;33m,\u001b[0m \u001b[1;33m[\u001b[0m\u001b[1;33m]\u001b[0m\u001b[1;33m,\u001b[0m \u001b[0mtimeout\u001b[0m\u001b[1;33m)\u001b[0m\u001b[1;33m\u001b[0m\u001b[1;33m\u001b[0m\u001b[0m\n\u001b[0m\u001b[0;32m    324\u001b[0m         \u001b[1;32mexcept\u001b[0m \u001b[0mInterruptedError\u001b[0m\u001b[1;33m:\u001b[0m\u001b[1;33m\u001b[0m\u001b[1;33m\u001b[0m\u001b[0m\n\u001b[0;32m    325\u001b[0m             \u001b[1;32mreturn\u001b[0m \u001b[0mready\u001b[0m\u001b[1;33m\u001b[0m\u001b[1;33m\u001b[0m\u001b[0m\n",
      "\u001b[1;32mC:\\ProgramData\\Anaconda3\\lib\\selectors.py\u001b[0m in \u001b[0;36m_select\u001b[1;34m(self, r, w, _, timeout)\u001b[0m\n\u001b[0;32m    312\u001b[0m     \u001b[1;32mif\u001b[0m \u001b[0msys\u001b[0m\u001b[1;33m.\u001b[0m\u001b[0mplatform\u001b[0m \u001b[1;33m==\u001b[0m \u001b[1;34m'win32'\u001b[0m\u001b[1;33m:\u001b[0m\u001b[1;33m\u001b[0m\u001b[1;33m\u001b[0m\u001b[0m\n\u001b[0;32m    313\u001b[0m         \u001b[1;32mdef\u001b[0m \u001b[0m_select\u001b[0m\u001b[1;33m(\u001b[0m\u001b[0mself\u001b[0m\u001b[1;33m,\u001b[0m \u001b[0mr\u001b[0m\u001b[1;33m,\u001b[0m \u001b[0mw\u001b[0m\u001b[1;33m,\u001b[0m \u001b[0m_\u001b[0m\u001b[1;33m,\u001b[0m \u001b[0mtimeout\u001b[0m\u001b[1;33m=\u001b[0m\u001b[1;32mNone\u001b[0m\u001b[1;33m)\u001b[0m\u001b[1;33m:\u001b[0m\u001b[1;33m\u001b[0m\u001b[1;33m\u001b[0m\u001b[0m\n\u001b[1;32m--> 314\u001b[1;33m             \u001b[0mr\u001b[0m\u001b[1;33m,\u001b[0m \u001b[0mw\u001b[0m\u001b[1;33m,\u001b[0m \u001b[0mx\u001b[0m \u001b[1;33m=\u001b[0m \u001b[0mselect\u001b[0m\u001b[1;33m.\u001b[0m\u001b[0mselect\u001b[0m\u001b[1;33m(\u001b[0m\u001b[0mr\u001b[0m\u001b[1;33m,\u001b[0m \u001b[0mw\u001b[0m\u001b[1;33m,\u001b[0m \u001b[0mw\u001b[0m\u001b[1;33m,\u001b[0m \u001b[0mtimeout\u001b[0m\u001b[1;33m)\u001b[0m\u001b[1;33m\u001b[0m\u001b[1;33m\u001b[0m\u001b[0m\n\u001b[0m\u001b[0;32m    315\u001b[0m             \u001b[1;32mreturn\u001b[0m \u001b[0mr\u001b[0m\u001b[1;33m,\u001b[0m \u001b[0mw\u001b[0m \u001b[1;33m+\u001b[0m \u001b[0mx\u001b[0m\u001b[1;33m,\u001b[0m \u001b[1;33m[\u001b[0m\u001b[1;33m]\u001b[0m\u001b[1;33m\u001b[0m\u001b[1;33m\u001b[0m\u001b[0m\n\u001b[0;32m    316\u001b[0m     \u001b[1;32melse\u001b[0m\u001b[1;33m:\u001b[0m\u001b[1;33m\u001b[0m\u001b[1;33m\u001b[0m\u001b[0m\n",
      "\u001b[1;31mKeyboardInterrupt\u001b[0m: "
     ]
    }
   ],
   "source": [
    "from xmlrpc.server import SimpleXMLRPCServer, SimpleXMLRPCRequestHandler\n",
    "import sqlite3\n",
    "import datetime\n",
    "\n",
    "class RequestHandler(SimpleXMLRPCRequestHandler):\n",
    "    rpc_paths = ('/RPC2',)\n",
    "\n",
    "# Настройка сервера\n",
    "stats_server = SimpleXMLRPCServer((\"localhost\", 8018), requestHandler=RequestHandler)\n",
    "stats_server.register_introspection_functions()\n",
    "\n",
    "# Настройка SQLite базы данных для хранения логов\n",
    "conn = sqlite3.connect('log.db')\n",
    "cursor = conn.cursor()\n",
    "cursor.execute('''CREATE TABLE IF NOT EXISTS logs (event TEXT, timestamp TEXT, duration REAL)''')\n",
    "conn.commit()\n",
    "\n",
    "def add_log(event, timestamp, duration):\n",
    "    \"\"\"Добавление записи в лог\"\"\"\n",
    "    cursor.execute(\"INSERT INTO logs (event, timestamp, duration) VALUES (?, ?, ?)\", (event, timestamp, duration))\n",
    "    conn.commit()\n",
    "    return True\n",
    "\n",
    "def get_logs(event_type=None, start_time=None, end_time=None, duration=None):\n",
    "    \"\"\"Получение логов с фильтрацией по типу события и времени\"\"\"\n",
    "    query = \"SELECT * FROM logs WHERE 1=1\"\n",
    "    params = []\n",
    "    if event_type:\n",
    "        query += \" AND event = ?\"\n",
    "        params.append(event_type)\n",
    "    if start_time:\n",
    "        query += \" AND timestamp >= ?\"\n",
    "        params.append(start_time)\n",
    "    if end_time:\n",
    "        query += \" AND timestamp <= ?\"\n",
    "        params.append(end_time)\n",
    "    if duration:\n",
    "        query+= \" AND duration = ?\"\n",
    "        params.append(duration)\n",
    "\n",
    "    cursor.execute(query, params)\n",
    "    return cursor.fetchall()\n",
    "\n",
    "# Регистрация функций на сервере\n",
    "stats_server.register_function(add_log, 'add_log')\n",
    "stats_server.register_function(get_logs, 'get_logs')\n",
    "\n",
    "print(\"Statistics server listening on port 8018...\")\n",
    "stats_server.serve_forever()\n"
   ]
  },
  {
   "cell_type": "code",
   "execution_count": null,
   "metadata": {},
   "outputs": [],
   "source": []
  }
 ],
 "metadata": {
  "kernelspec": {
   "display_name": "Python 3",
   "language": "python",
   "name": "python3"
  },
  "language_info": {
   "codemirror_mode": {
    "name": "ipython",
    "version": 3
   },
   "file_extension": ".py",
   "mimetype": "text/x-python",
   "name": "python",
   "nbconvert_exporter": "python",
   "pygments_lexer": "ipython3",
   "version": "3.8.8"
  },
  "toc": {
   "base_numbering": 1,
   "nav_menu": {},
   "number_sections": true,
   "sideBar": true,
   "skip_h1_title": false,
   "title_cell": "Table of Contents",
   "title_sidebar": "Contents",
   "toc_cell": true,
   "toc_position": {},
   "toc_section_display": true,
   "toc_window_display": false
  }
 },
 "nbformat": 4,
 "nbformat_minor": 2
}
